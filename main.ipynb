{
 "cells": [
  {
   "cell_type": "markdown",
   "metadata": {},
   "source": [
    "# CLIPBOARD HEALTH SALES ANALYSIS\n",
    "\n",
    "## Business Understanding\n",
    "### Overview\n",
    "Clipboard Health is a nationwide staffing platform specializing in providing staffing to long-term care facilities. The Centers for Medicaid and Medicare Services publish a quarterly report containing daily staffing data for all registered nursing homes in the US. I have been tasked to use the PBJ data and any other CMS data that you see fit to make a few recommendations to the Clipboard Health sales leadership team, using Q1 data.\n",
    "\n",
    "### Objectives\n",
    "The objective of this analysis is to evaluate the staffing data to identify trends, inefficiencies, and opportunities that can be leveraged to improve Clipboard Health’s staffing strategies and sales approach. \n",
    "\n",
    "### Analytical questions\n",
    "\n",
    "1. Staffing Trends: What are the current staffing trends in nursing homes for Q1 2024? How do these trends vary by state, city, or county?\n",
    "\n",
    "2. Workforce Allocation: What is the distribution of staffing hours between full-time employees and contractors? Are there any significant disparities that need to be addressed?\n",
    "\n",
    "3. Geographical Analysis: Are there specific regions where staffing levels are consistently high or low? How can Clipboard Health tailor its offerings based on these regional differences?\n",
    "\n",
    "4. Operational Efficiency: Are there any patterns in staffing hours that suggest inefficiencies or potential areas for improvement? How can Clipboard Health’s solutions address these inefficiencies?\n",
    "\n",
    "5. Competitive Positioning: How do the staffing levels at facilities serviced by Clipboard Health compare to those serviced by competitors? What can be learned to enhance Clipboard Health’s market positioning and sales strategy?"
   ]
  },
  {
   "cell_type": "code",
   "execution_count": null,
   "metadata": {},
   "outputs": [],
   "source": []
  }
 ],
 "metadata": {
  "language_info": {
   "name": "python"
  }
 },
 "nbformat": 4,
 "nbformat_minor": 2
}
